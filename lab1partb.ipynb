{
 "cells": [
  {
   "cell_type": "code",
   "execution_count": 18,
   "metadata": {},
   "outputs": [
    {
     "name": "stdout",
     "output_type": "stream",
     "text": [
      "determinant of A -70.00000000000003\n",
      "The system is non-singular and has a unique solution\n",
      "\n",
      "solution of the system:\n",
      "x = 1.7999999999999998\n",
      "y = 2.4\n",
      "z = -0.2\n"
     ]
    }
   ],
   "source": [
    "import numpy as np\n",
    "\n",
    "A = np.array([[4, 1, -2],\n",
    "              [2, -3, 2],\n",
    "              [1, 2, 3]])\n",
    "\n",
    "b = np.array([10, -4, 6])\n",
    "det_A = np.linalg.det(A)\n",
    "\n",
    "if det_A != 0:\n",
    "    singularity = \"non-singular\"\n",
    "    solutionComment = \"unique solution\"\n",
    "else:\n",
    "    singularity = \"singular\"\n",
    "    solutionComment = \"no unique solution\"\n",
    "\n",
    "print(\"determinant of A\", det_A)\n",
    "print(\"The system is\", singularity, \"and has a\", solutionComment)\n",
    "\n",
    "if singularity == \"non-singular\":\n",
    "    solution = np.linalg.solve(A, b)\n",
    "    print(\"\\nsolution of the system:\")\n",
    "    print(\"x =\", solution[0])\n",
    "    print(\"y =\", solution[1])\n",
    "    print(\"z =\", solution[2])\n"
   ]
  },
  {
   "cell_type": "code",
   "execution_count": 19,
   "metadata": {},
   "outputs": [
    {
     "name": "stdout",
     "output_type": "stream",
     "text": [
      "Determinant of A: 0.0\n",
      "the system is singular and has a no unique solution\n"
     ]
    }
   ],
   "source": [
    "import numpy as np\n",
    "\n",
    "A = np.array([[2, -1, 3, 4],\n",
    "              [4, -2, 6, 8],\n",
    "              [3, 1, -2, 2],\n",
    "              [1, 3, -4, 1]])\n",
    "\n",
    "b = np.array([10, 20, 3, -1])\n",
    "det_A = np.linalg.det(A)\n",
    "\n",
    "if det_A != 0:\n",
    "    singularity = \"nonsingular\"\n",
    "    solutionComment = \"unique solution\"\n",
    "else:\n",
    "    singularity = \"singular\"\n",
    "    solutionComment = \"no unique solution\"\n",
    "\n",
    "print(\"Determinant of A:\", det_A)\n",
    "print(\"the system is\", singularity, \"and has\", solutionComment)\n",
    "\n",
    "if singularity == \"nonsingular\":\n",
    "    solution = np.linalg.solve(A, b)\n",
    "    print(\"\\nsolution of the system\")\n",
    "    print(\"x =\", solution[0])\n",
    "    print(\"y =\", solution[1])\n",
    "    print(\"z =\", solution[2])\n",
    "    print(\"w =\", solution[3])\n"
   ]
  }
 ],
 "metadata": {
  "kernelspec": {
   "display_name": "Python 3",
   "language": "python",
   "name": "python3"
  },
  "language_info": {
   "codemirror_mode": {
    "name": "ipython",
    "version": 3
   },
   "file_extension": ".py",
   "mimetype": "text/x-python",
   "name": "python",
   "nbconvert_exporter": "python",
   "pygments_lexer": "ipython3",
   "version": "3.11.3"
  },
  "orig_nbformat": 4
 },
 "nbformat": 4,
 "nbformat_minor": 2
}
